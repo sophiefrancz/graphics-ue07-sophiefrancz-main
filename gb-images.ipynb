{
 "cells": [
  {
   "cell_type": "markdown",
   "metadata": {},
   "source": [
    "# *IPR | Graphics - Exercise* : Images\n",
    "\n",
    "Student name: *[Todo]* <br>\n",
    "Student ID: *[Todo]* <br>\n",
    "\n",
    "This is the handout and the exercise notebook for the IPR Graphics Exercise. <br>\n",
    "You have to solve 3 tasks in Python and Java summing to 12 points. <br>\n",
    "Deadline: **23.12.2021, 10:00**\n",
    "\n",
    "\n",
    "If you have any questions, please contact the tutors or the instructor. <br>\n",
    "Instructor: David Schedl, [david.schedl@fh-hagenberg.at](mailto:david.schedl@fh-hagenberg.at) <br>"
   ]
  },
  {
   "cell_type": "markdown",
   "metadata": {},
   "source": [
    "## Pixels of an image\n",
    "\n",
    "Let's start simple with a binary image (0 or 1). <br>\n",
    "We only use 0 and 1 for the pixels, the datatype, however, is `int` and not `bool`. <br>\n",
    "\n",
    "Furthermore, we can `import ipr` to get access to the `imshow` function for displaying images. \n",
    "Make sure that this Jupyter-notebook file (`.ipynb`) is in the same directory as the `ipr.py` file!"
   ]
  },
  {
   "cell_type": "code",
   "execution_count": 120,
   "metadata": {},
   "outputs": [
    {
     "name": "stdout",
     "output_type": "stream",
     "text": [
      "0\n"
     ]
    },
    {
     "data": {
      "text/plain": "<Figure size 720x720 with 1 Axes>",
      "image/png": "[encoded data removed]"
     },
     "metadata": {
      "needs_background": "light"
     },
     "output_type": "display_data"
    },
    {
     "name": "stdout",
     "output_type": "stream",
     "text": [
      "[1, 0, 1, 0, 0, 1, 0, 1]\n",
      "<class 'int'>\n"
     ]
    }
   ],
   "source": [
    "# define the pixels of a binary (0/1) 8x8 image with a smiley face\n",
    "pixels_binary = [\n",
    "#col:0  1  2  3  4  5  6  7 \n",
    "    [0, 0, 1, 1, 1, 1, 0, 0], # row 0  \n",
    "    [0, 1, 0, 0, 0, 0, 1, 0], # row 1\n",
    "    [1, 0, 1, 0, 0, 1, 0, 1], # row 2\n",
    "    [1, 0, 0, 0, 0, 0, 0, 1], # row 3\n",
    "    [1, 0, 1, 0, 0, 1, 0, 1], # row 4\n",
    "    [1, 0, 0, 1, 1, 0, 0, 1], # row 5\n",
    "    [0, 1, 0, 0, 0, 0, 1, 0], # row 6\n",
    "    [0, 0, 1, 1, 1, 1, 0, 0]  # row 7\n",
    "]\n",
    "\n",
    "print(pixels_binary[6][7])\n",
    "\n",
    "import ipr \n",
    "ipr.imshow(\"8x8 image\", pixels_binary)\n",
    "\n",
    "# Note that row is the v or y axis and column is the u or x axis.\n",
    "print(pixels_binary[2]) # retrieves row 2 (the eyes)\n",
    "print(type(pixels_binary[0][0])) # the datatype is integer!"
   ]
  },
  {
   "cell_type": "markdown",
   "metadata": {},
   "source": [
    "## Grayscale\n",
    "\n",
    "Let's extend our image to grayscale by using an extended range. <br>\n",
    "Typically, a Byte (8 bit) is used for storing a pixel, thus the range is 0 to 255. <br> "
   ]
  },
  {
   "cell_type": "code",
   "execution_count": 121,
   "metadata": {},
   "outputs": [
    {
     "data": {
      "text/plain": "<Figure size 720x720 with 1 Axes>",
      "image/png": "[encoded data removed]"
     },
     "metadata": {
      "needs_background": "light"
     },
     "output_type": "display_data"
    },
    {
     "name": "stdout",
     "output_type": "stream",
     "text": [
      "[125, 0, 255, 0, 0, 255, 0, 125]\n"
     ]
    }
   ],
   "source": [
    "# define the pixels of an 8-bit grayscale (0-255) image with a smiley face\n",
    "pixels_grayscale = [\n",
    "#col:  0    1    2    3    4    5    6    7 \n",
    "    [  0,   0, 125, 125, 125, 125,   0,   0], # row 0  \n",
    "    [  0, 125,   0,   0,   0,   0, 125,   0], # row 1\n",
    "    [125,   0, 255,   0,   0, 255,   0, 125], # row 2\n",
    "    [125,   0,   0,   0,   0,   0,   0, 125], # row 3\n",
    "    [125,   0, 180,   0,   0, 180,   0, 125], # row 4\n",
    "    [125,   0,   0, 180, 180,   0,   0, 125], # row 5\n",
    "    [  0, 125,   0,   0,   0,   0, 125,   0], # row 6\n",
    "    [  0,   0, 125, 125, 125, 125,   0,   0]  # row 7\n",
    "]\n",
    "\n",
    "import ipr \n",
    "ipr.imshow(\"8x8 grayscale image\", pixels_grayscale, cmap=\"gray\")\n",
    "\n",
    "# Note that row is the v or y axis and column is the u or x axis.\n",
    "print(pixels_grayscale[2]) # retrieves row 2 (the eyes)"
   ]
  },
  {
   "cell_type": "markdown",
   "metadata": {},
   "source": [
    "## Switch to Colors\n",
    "\n",
    "In Python we handle colors by extending our 2D lists with 3 values (RGB) per pixel. <br>\n",
    "Thus, every pixel is an array of 3 color values. <br>\n",
    "The lines below convert our grayscale image to a color image. <br>"
   ]
  },
  {
   "cell_type": "code",
   "execution_count": 122,
   "metadata": {},
   "outputs": [
    {
     "data": {
      "text/plain": "<Figure size 720x720 with 1 Axes>",
      "image/png": "[encoded data removed]"
     },
     "metadata": {
      "needs_background": "light"
     },
     "output_type": "display_data"
    },
    {
     "name": "stdout",
     "output_type": "stream",
     "text": [
      "[[125, 62.5, 0], [0, 0.0, 0], [255, 127.5, 0], [0, 0.0, 0], [0, 0.0, 0], [255, 127.5, 0], [0, 0.0, 0], [125, 62.5, 0]]\n"
     ]
    }
   ],
   "source": [
    "# convert grayscale to color \n",
    "pixels_color = []\n",
    "for row in pixels_grayscale:\n",
    "    row_color = []\n",
    "    for pixel in row:\n",
    "        row_color.append([pixel, pixel/2, 0]) # yellowish color (red + green = yellow; no blue)\n",
    "    pixels_color.append(row_color)\n",
    "\n",
    "ipr.imshow(\"8x8 color image\", pixels_color)\n",
    "print(pixels_color[2]) # retrieves row 2 (the eyes)"
   ]
  },
  {
   "cell_type": "markdown",
   "metadata": {},
   "source": [
    "## A function to create a uniform color image\n",
    "\n",
    "Let's create a function to create an image filled with a uniform color. <br>"
   ]
  },
  {
   "cell_type": "code",
   "execution_count": 123,
   "metadata": {},
   "outputs": [],
   "source": [
    "# make_image (long version)\n",
    "def make_image(width: int, height: int, color: list = [0, 0, 0]) -> list:\n",
    "    \"\"\"\n",
    "    Create a new image of the given width and height.\n",
    "    The image is filled with color.\n",
    "     Args:\n",
    "        width (int): width of the image\n",
    "        height (int): height of the image\n",
    "        color (list, optional): uniform color for initing the image. Defaults to [0,0,0] (black).\n",
    "\n",
    "    Returns:\n",
    "        list: the new image\n",
    "    \"\"\"\n",
    "    pixels = []\n",
    "    for r in range(height):  # rows\n",
    "        row = []\n",
    "        for c in range(width):  # columns\n",
    "            row.append(color)\n",
    "        pixels.append(row)\n",
    "    return pixels\n",
    "\n",
    "\n",
    "img = make_image(8, 10)\n",
    "# ipr.imshow(f\"empty image {len(img[0])}x{len(img)}\", img)\n",
    "# print(img[2])"
   ]
  },
  {
   "cell_type": "markdown",
   "metadata": {},
   "source": [
    "## Pythonic (Python style): List Comprehensions\n",
    "\n",
    "When programming, we often have for loops to transform one type of data into another. As a simple example, consider the following code that computes square numbers:\n",
    "```python\n",
    "nums = [0, 1, 2, 3, 4]\n",
    "squares = []\n",
    "for x in nums:\n",
    "    squares.append(x ** 2)\n",
    "```\n",
    "\n",
    "You can make this code simpler using a list comprehension: \n",
    "```python\n",
    "nums = [0, 1, 2, 3, 4]\n",
    "squares = [x ** 2 for x in nums]\n",
    "```\n",
    "Note that list comprehensions can get quite complex and obfuscated (they can be nested and also contain if conditions), so they might be hard to interpret sometimes! Please use, what is easier for you to understand. <br>\n",
    "\n",
    "We can dramatically shorten the code of `make_image` by using list comprehensions. <br>"
   ]
  },
  {
   "cell_type": "code",
   "execution_count": 124,
   "metadata": {},
   "outputs": [],
   "source": [
    "# make_image (shortened with list comprehensions)\n",
    "def make_image(width, height, color=[0,0,0]):\n",
    "    \"\"\"\n",
    "    Create a new image of the given width and height.\n",
    "    The image is filled with color.\n",
    "     Args:\n",
    "        width (int): width of the image\n",
    "        height (int): height of the image\n",
    "        color (list, optional): uniform color for initing the image. Defaults to [0,0,0] (black).\n",
    "\n",
    "    Returns:\n",
    "        list: the new image\n",
    "    \"\"\"\n",
    "    return [[color for c in range(width)] for r in range(height)] # only one line now!\n",
    "\n",
    "\n",
    "img = make_image(8, 10)\n",
    "#ipr.imshow(f\"empty image {len(img[0])}x{len(img)}\", img)\n",
    "#print(img[2])"
   ]
  },
  {
   "cell_type": "markdown",
   "metadata": {},
   "source": [
    "## Encode an RGB pixel in one 32-bit integer value\n",
    "\n",
    "In Java RGB pixels are encoded in 32-bit integers for efficiency.\n",
    "We can also use this bitwise-encoding in Python! <br>\n",
    "Let's test it below, but we don't change our image format. <br>\n",
    "We stick to a 3D array (a list of lists of RGB lists) in Python. <br>"
   ]
  },
  {
   "cell_type": "code",
   "execution_count": 125,
   "metadata": {},
   "outputs": [
    {
     "name": "stdout",
     "output_type": "stream",
     "text": [
      "red: \t255 \t0xFF \t0b11111111\n",
      "green: \t100 \t0x64 \t0b01100100\n",
      "blue: \t11 \t0xB \t0b00001011\n",
      "RGB: \t16737291 \t0xFF640B \t0b111111110110010000001011\n"
     ]
    }
   ],
   "source": [
    "r, g, b = 0xFF, 0x64, 0x0B # red, green, blue\n",
    "print(f\"red: \\t{r:d} \\t0x{r:X} \\t0b{r:08b}\") # print in a decimal, hexadecimal and binary number system\n",
    "print(f\"green: \\t{g:d} \\t0x{g:X} \\t0b{g:08b}\")\n",
    "print(f\"blue: \\t{b:d} \\t0x{b:X} \\t0b{b:08b}\")\n",
    "\n",
    "\n",
    "rgb = 0xFF640B # 24-bit representation of the color\n",
    "print(f\"RGB: \\t{rgb:d} \\t0x{rgb:X} \\t0b{rgb:024b}\")"
   ]
  },
  {
   "cell_type": "markdown",
   "metadata": {},
   "source": [
    "## Bitwise Operations\n",
    "\n",
    "Just like Java, Python has built-in functions to perform bitwise operations. <br>\n",
    "You'll see a few examples below. For further details and explanations look at [this blog](https://realpython.com/python-bitwise-operators/#why-use-binary)."
   ]
  },
  {
   "cell_type": "code",
   "execution_count": 126,
   "metadata": {},
   "outputs": [
    {
     "name": "stdout",
     "output_type": "stream",
     "text": [
      "a \t10011100\n",
      "b \t00110100\n",
      "OR  \t10111100\n",
      "AND \t00010100\n",
      "-------------------\n",
      "bit \t00100111\n",
      "<<1 \t01001110\n",
      ">>1 \t00100111\n",
      "-------------------\n",
      "RGB: \t16737291 \t0xFF640B \t0b111111110110010000001011\n"
     ]
    }
   ],
   "source": [
    "a = 0b10011100\n",
    "b = 0b00110100\n",
    "print(f\"a \\t{a:08b}\")\n",
    "print(f\"b \\t{b:08b}\")\n",
    "bit_or = a | b # bitwise OR (|)\n",
    "bit_and = a & b # bitwise AND (&)\n",
    "print( f\"OR  \\t{bit_or:08b}\" ) \n",
    "print( f\"AND \\t{bit_and:08b}\" )\n",
    "print(f\"-------------------\")\n",
    "\n",
    "\n",
    "bit = 0b100111\n",
    "print(f\"bit \\t{bit:08b}\")\n",
    "bit_left = bit << 1 # bitwise shift left (<<)\n",
    "bit_right = bit_left >> 1 # bitwise shift right (>>)\n",
    "print( f\"<<1 \\t{bit_left:08b}\" )\n",
    "print( f\">>1 \\t{bit_right:08b}\" )\n",
    "print(f\"-------------------\")\n",
    "\n",
    "\n",
    "\n",
    "# use OR and left shift to combine three colors (8 bits each) into one 24-bit color\n",
    "r, g, b = 0xFF, 0x64, 0x0B # red, green, blue\n",
    "rgb = r << 16 | g << 8 | b # 24-bit representation of the color\n",
    "print(f\"RGB: \\t{rgb:d} \\t0x{rgb:X} \\t0b{rgb:024b}\")"
   ]
  },
  {
   "cell_type": "markdown",
   "metadata": {},
   "source": [
    "## _Task 01_: Implement a `get_pixel` and `set_pixel` function [1 point]\n",
    "\n",
    "- Implement a function `get_pixel` that takes u,v coordinates and returns the corresponding pixel value.\n",
    "- Implement a function `set_pixel` that takes u,v coordinates and a pixel value and sets the corresponding pixel value in the image.\n",
    "<br> Make sure that you apply a boundary check to the u,v coordinates and handle invalid coordinates gracefully.\n",
    "\n",
    "**NOTE:** Don't change the `make_image` function. You do not need to use bitwise operations in Python!"
   ]
  },
  {
   "cell_type": "code",
   "execution_count": 127,
   "metadata": {},
   "outputs": [
    {
     "name": "stdout",
     "output_type": "stream",
     "text": [
      "[0, 255, 0]\n",
      "Your chosen coordinates are out of range.\n",
      "None\n",
      "[0, 255, 0]\n",
      "Your chosen coordinates are out of range.\n"
     ]
    },
    {
     "data": {
      "text/plain": "<Figure size 720x720 with 1 Axes>",
      "image/png": "[encoded data removed]"
     },
     "metadata": {
      "needs_background": "light"
     },
     "output_type": "display_data"
    }
   ],
   "source": [
    "import ipr\n",
    "import math\n",
    "\n",
    "black = [0,0,0]\n",
    "white = [255,255,255]\n",
    "red = [255,0,0]\n",
    "green = [0,255,0]\n",
    "blue = [0,0,255]\n",
    "yellow = [255,255,0]\n",
    "purple = [100,0,100]\n",
    "pink = [255,192,203]\n",
    "\n",
    "# Bild wird erstellt\n",
    "def make_image(u:int, v:int, color=black) -> list: # u = width, v = height\n",
    "        img_color = []\n",
    "\n",
    "        # Laenge des Bildes\n",
    "        for _ in range(v):\n",
    "            pixel_color = []\n",
    "\n",
    "            # Breite des Bildes\n",
    "            for _ in range(u):\n",
    "                pixel_color.append(color)\n",
    "\n",
    "            img_color.append(pixel_color)\n",
    "\n",
    "        return img_color\n",
    "\n",
    "\n",
    "# Fuellt die Pixel mit Farbe\n",
    "def set_pixel(img: list, u:int, v:int, color:pink) -> list:\n",
    "\n",
    "    # WENN der Pixel in dieser Range liegt...\n",
    "    if u < len(img[0]) and v < len(img):\n",
    "\n",
    "        # ...DANN fuelle den Pixel mit Farbe aus\n",
    "        img [v][u] = color\n",
    "\n",
    "    # ANDERNFALLS printe einen Error aus\n",
    "    else:\n",
    "        print(\"Your chosen coordinates are out of range.\")\n",
    "\n",
    "    # Ausgabe\n",
    "    return img\n",
    "\n",
    "# Waehlt einen farbigen Pixel aus\n",
    "def get_pixel(img: list,u: int,v: int) -> list:\n",
    "  \n",
    "    pixel_color = []\n",
    "\n",
    "    # WENN der Pixel in dieser Range liegt...\n",
    "    if u < len(img[0]) and v < len(img):\n",
    "\n",
    "       # ...DANN gib den Pixel retour\n",
    "       return img [v][u]\n",
    "\n",
    "    #ANDERNFALLS printe einen Error aus\n",
    "    else:\n",
    "        print(\"Your chosen coordinates are out of range.\")\n",
    "\n",
    "\n",
    "image = make_image(8, 6, green)\n",
    "print( get_pixel(image,0,0) ) # should be [128,0,255]!\n",
    "print( get_pixel(image,4,10) ) # invalid index. Return value should be None or empty list!\n",
    "\n",
    "u,v = 1,1\n",
    "\n",
    "set_pixel(image,5,4,pink)\n",
    "print(get_pixel(image,u,v)) # should be [0,100,0], now!\n",
    "set_pixel(image,10,2,white) # invalid index. should do nothing!\n",
    "ipr.imshow(\"set_pixel test\", image) # image should be purple with a green pixel in the middle!"
   ]
  },
  {
   "cell_type": "markdown",
   "metadata": {},
   "source": [
    "## _Task 02_: Implement a function to create a horizontal gradient image [2 points]\n",
    "\n",
    "The function `make_gradient_image` creates an image of a specific width and height. \n",
    "The image contains a  horizontal gradient (from left to right). `color1` is on the left side of the image, `color2` is on the right edge of the image. In-between pixels are interpolated linearly between the two colors (e.g., 50% of color1 and 50% of color2 in the center).\n",
    "\n",
    "**Bonus:** [1/2 Extra-Point] The function can create a vertical and horizontal gradient. Use a boolean parameter to decide which gradient to create. "
   ]
  },
  {
   "cell_type": "code",
   "execution_count": 128,
   "metadata": {},
   "outputs": [
    {
     "data": {
      "text/plain": "<Figure size 720x720 with 1 Axes>",
      "image/png": "[encoded data removed]"
     },
     "metadata": {
      "needs_background": "light"
     },
     "output_type": "display_data"
    }
   ],
   "source": [
    "def make_gradient_image(u:int, v:int, color1=white, color2=black, m_v_g=False) -> list:\n",
    "\n",
    "    # Horizontaler Farbverlauf\n",
    "\n",
    "    if not m_v_g:\n",
    "\n",
    "        radiant_image = []\n",
    "\n",
    "        for _ in range(v):\n",
    "            row_color = []\n",
    "\n",
    "            for i in range(u):\n",
    "                color = []\n",
    "\n",
    "                # Dieser Codeabschnitt beschreibt, wie die Farbe 1 in die Farbe 2 gefaded wird\n",
    "\n",
    "                for j in range(len(color1)):\n",
    "                    color.append(color1[j] + (color2[j] - color1[j]) * i / u)\n",
    "\n",
    "                row_color.append(color)\n",
    "            radiant_image.append(row_color)\n",
    "\n",
    "        # Ausgabe\n",
    "\n",
    "        return radiant_image\n",
    "\n",
    "    # Vertikaler Farbverlauf\n",
    "\n",
    "    else:\n",
    "        radiant_image = []\n",
    "\n",
    "        for i in range(u):\n",
    "            row_color = []\n",
    "\n",
    "            for _ in range(v):\n",
    "                color = []\n",
    "\n",
    "                # Dieser Codeabschnitt beschreibt, wie die Farbe 1 in die Farbe 2 gefaded wird\n",
    "\n",
    "                for j in range(len(color1)):\n",
    "                    color.append(color1[j] + (color2[j] - color1[j]) * i / u)\n",
    "\n",
    "                row_color.append(color)\n",
    "            radiant_image.append(row_color)\n",
    "\n",
    "        # Ausgabe\n",
    "\n",
    "        return radiant_image\n",
    "\n",
    "\n",
    "make_vertical_gradiant = False # set this boolean to True or False to change the gradient layout\n",
    "\n",
    "image = make_gradient_image(32, 8, black, pink, make_vertical_gradiant)\n",
    "ipr.imshow(f\"gradient image {len(image[0])}x{len(image)}\", image) # gradient from yellow on the left to blue on the right"
   ]
  },
  {
   "cell_type": "markdown",
   "metadata": {},
   "source": [
    "## _Task 03_: Implement a function to create a checkerboard image [2 points]\n",
    "\n",
    "Implement the function `make_checkerboard_image` with the parameters as defined below.\n",
    "The resulting image shows a checkerboard (the board you know from the game chess) and squares using `color1` and `color2` alternatingly. \n",
    "Additionally the size of the squares can be controlled by the parameter `checker_size`. A square size of N means that one square is NxN pixels large.\n"
   ]
  },
  {
   "cell_type": "code",
   "execution_count": 129,
   "metadata": {},
   "outputs": [
    {
     "data": {
      "text/plain": "<Figure size 720x720 with 1 Axes>",
      "image/png": "[encoded data removed]"
     },
     "metadata": {
      "needs_background": "light"
     },
     "output_type": "display_data"
    },
    {
     "data": {
      "text/plain": "<Figure size 720x720 with 1 Axes>",
      "image/png": "[encoded data removed]"
     },
     "metadata": {
      "needs_background": "light"
     },
     "output_type": "display_data"
    },
    {
     "data": {
      "text/plain": "<Figure size 720x720 with 1 Axes>",
      "image/png": "[encoded data removed]"
     },
     "metadata": {
      "needs_background": "light"
     },
     "output_type": "display_data"
    }
   ],
   "source": [
    "def make_checkerboard_image(u:int, v:int, color1=black, color2=white, c_s:int=1) -> list:\n",
    "\n",
    "    checkerboard_color = []\n",
    "\n",
    "    for j in range(v):\n",
    "        pixel_color = []\n",
    "\n",
    "        # Dieser Abschnitt beschreibt wie das Schachbrettmuster entsteht\n",
    "        # Hat die Zahl % 2 keinen Rest, wird diese in eine gerade Reihe weitergeleitet\n",
    "        if math.floor(j / c_s) % 2 == 0:\n",
    "\n",
    "            for i in range(u):\n",
    "                # Selbes Prinzip wie oben, nur bestimmt hier der Rest ob das Feld Farbe 1 oder Farbe 2 haben soll\n",
    "                if math.floor(i / c_s) % 2 == 0:\n",
    "                    pixel_color.append(color1)\n",
    "                else:\n",
    "                    pixel_color.append(color2)\n",
    "\n",
    "        # Hat die Zahl % 2 einen Rest, wird diese in eine ungerade Reihe weitergeleitet\n",
    "        else:\n",
    "\n",
    "            for i in range(u):\n",
    "                # Selbes Prinzip wie oben, nur bestimmt hier der Rest ob das Feld Farbe 1 oder Farbe 2 haben soll\n",
    "                if math.floor(i / c_s) % 2 == 0:\n",
    "                    pixel_color.append(color2)\n",
    "                else:\n",
    "                    pixel_color.append(color1)\n",
    "\n",
    "        checkerboard_color.append(pixel_color)\n",
    "\n",
    "    # Ausgabe\n",
    "    return checkerboard_color\n",
    "\n",
    "\n",
    "checker_size = 2\n",
    "\n",
    "chess = make_checkerboard_image(16, 8, c_s=4)\n",
    "ipr.imshow(f\"checkerboard black/white with large squares {len(chess[0])}x{len(chess)}\", chess)\n",
    "\n",
    "chess = make_checkerboard_image(16, 8, [0, 0, 255], [255, 255, 0])\n",
    "ipr.imshow(f\"checkerboard yellow/blue {len(chess[0])}x{len(chess)}\", chess)\n"
   ]
  },
  {
   "cell_type": "markdown",
   "metadata": {},
   "source": [
    "### Additional Notes:\n",
    "- Hand in the solution via Github Classroom on time. <br>\n",
    "- You can delete cells of this notebook that are not related to the tasks. <br>\n",
    "- Ensure that you added your name and matriculation number to the top of the notebook and any additional source files.\n",
    "- For this exercise, you also need to hand in a Java solution. "
   ]
  }
 ],
 "metadata": {
  "interpreter": {
   "hash": "3e2b6404eb79c0fba1a251907aa00d26891e411eaa7ffd3f13ecfdd311f8c56c"
  },
  "kernelspec": {
   "display_name": "Python 3.8.10 64-bit (windows store)",
   "name": "python3"
  },
  "language_info": {
   "codemirror_mode": {
    "name": "ipython",
    "version": 3
   },
   "file_extension": ".py",
   "mimetype": "text/x-python",
   "name": "python",
   "nbconvert_exporter": "python",
   "pygments_lexer": "ipython3",
   "version": "3.9.5"
  },
  "orig_nbformat": 4
 },
 "nbformat": 4,
 "nbformat_minor": 2
}